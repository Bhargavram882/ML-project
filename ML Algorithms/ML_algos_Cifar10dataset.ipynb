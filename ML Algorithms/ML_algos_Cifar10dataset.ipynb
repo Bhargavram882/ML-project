{
 "cells": [
  {
   "cell_type": "code",
   "execution_count": 1,
   "id": "divine-colors",
   "metadata": {},
   "outputs": [],
   "source": [
    "import cv2\n",
    "import numpy as np\n",
    "import matplotlib.pyplot as plt\n",
    "import tensorflow as tf\n",
    "from sklearn import metrics\n",
    "from sklearn import preprocessing\n",
    "from sklearn import svm\n",
    "from sklearn.ensemble import RandomForestClassifier\n",
    "from sklearn.tree import DecisionTreeClassifier\n",
    "from sklearn.linear_model import LogisticRegression\n",
    "from sklearn.model_selection import train_test_split\n",
    "from sklearn.preprocessing import StandardScaler,label_binarize\n",
    "from sklearn.metrics import confusion_matrix,accuracy_score,roc_curve,classification_report,auc,roc_auc_score\n",
    "from sklearn.multiclass import OneVsRestClassifier"
   ]
  },
  {
   "cell_type": "code",
   "execution_count": 2,
   "id": "american-leone",
   "metadata": {},
   "outputs": [],
   "source": [
    "(train_x,train_y),(test_x,test_y) = tf.keras.datasets.cifar10.load_data()"
   ]
  },
  {
   "cell_type": "code",
   "execution_count": 3,
   "id": "induced-spencer",
   "metadata": {},
   "outputs": [
    {
     "name": "stdout",
     "output_type": "stream",
     "text": [
      "Training Samples :  8000\n",
      "Testing Samples :  2000\n"
     ]
    }
   ],
   "source": [
    "X = np.concatenate((train_x,test_x))\n",
    "Y = np.concatenate((train_y,test_y))\n",
    "\n",
    "train_x, test_x, train_y, test_y = train_test_split(X,Y,test_size=0.2)\n",
    "\n",
    "train_x = train_x[0:8000]\n",
    "test_x = test_x[0:2000]\n",
    "train_y = train_y[0:8000]\n",
    "test_y = test_y[0:2000]\n",
    "\n",
    "print(\"Training Samples : \",train_x.shape[0])\n",
    "print(\"Testing Samples : \",test_x.shape[0])"
   ]
  },
  {
   "cell_type": "code",
   "execution_count": 4,
   "id": "inside-investment",
   "metadata": {},
   "outputs": [],
   "source": [
    "x_train = np.reshape(train_x, (train_x.shape[0], -1))\n",
    "x_test = np.reshape(test_x, (test_x.shape[0], -1))"
   ]
  },
  {
   "cell_type": "code",
   "execution_count": 5,
   "id": "electric-vacation",
   "metadata": {},
   "outputs": [],
   "source": [
    "def Report(train_y,test_y,pred_y,pred_train):\n",
    "\n",
    "  error = 1 - accuracy_score(train_y,pred_train)\n",
    "  print(\"Training error {}\".format(error))\n",
    "\n",
    "  error = 1 - accuracy_score(test_y,pred_y)\n",
    "  print(\"Testing error {}\".format(error))\n",
    "\n",
    "  print(\"\\n\",\"Confusion Matrix\\n\",confusion_matrix(test_y,pred_y))\n",
    "\n",
    "  print(\"\\n\",\"Classification Report\\n\",classification_report(test_y,pred_y))"
   ]
  },
  {
   "cell_type": "code",
   "execution_count": 6,
   "id": "executive-watch",
   "metadata": {},
   "outputs": [],
   "source": [
    "def plot_ROC(y_test,y_score,x):\n",
    "    fpr = dict()\n",
    "    tpr = dict()\n",
    "    roc_auc = dict()\n",
    "    for i in range(10):\n",
    "        fpr[i], tpr[i], _ = roc_curve(y_test[:, i], y_score[:, i])\n",
    "        roc_auc[i] = auc(fpr[i], tpr[i])\n",
    "\n",
    "    fpr[\"micro\"], tpr[\"micro\"], _ = roc_curve(y_test.ravel(), y_score.ravel())\n",
    "    roc_auc[\"micro\"] = auc(fpr[\"micro\"], tpr[\"micro\"])\n",
    "\n",
    "    plt.figure()\n",
    "\n",
    "    plt.plot(fpr[2], tpr[2], color='darkorange', lw=2, label='ROC curve (area = %0.2f)' % roc_auc[2])\n",
    "    plt.plot([0, 1], [0, 1], color='navy', lw=2, linestyle='--')\n",
    "    plt.xlim([0.0, 1.0])\n",
    "    plt.ylim([0.0, 1.05])\n",
    "    plt.xlabel('False Positive Rate')\n",
    "    plt.ylabel('True Positive Rate')\n",
    "    plt.title('ROC Curve of '+x)\n",
    "    plt.legend(loc=\"lower right\")\n",
    "    plt.show()"
   ]
  },
  {
   "cell_type": "code",
   "execution_count": 7,
   "id": "prescription-retention",
   "metadata": {},
   "outputs": [],
   "source": [
    "y_train = label_binarize(train_y, classes=[*range(10)])\n",
    "y_test = label_binarize(test_y, classes=[*range(10)])"
   ]
  },
  {
   "cell_type": "code",
   "execution_count": 8,
   "id": "rural-alexandria",
   "metadata": {},
   "outputs": [
    {
     "name": "stdout",
     "output_type": "stream",
     "text": [
      "Training error 0.283625\n",
      "Testing error 0.5395\n",
      "\n",
      " Confusion Matrix\n",
      " [[ 90  11   3   7   6   3   3  18  35  23]\n",
      " [ 11 107   2   6   3   2   5  14   9  28]\n",
      " [ 25  11  37  17  40  19  27   6   4   3]\n",
      " [ 12   7  12  62  23  47  34   8  12  14]\n",
      " [  9   4  25   9  85   8  32  17   7   6]\n",
      " [  4  11  10  33  21  71  12  15   8   4]\n",
      " [  4   5  17  13  27  15 119   4   2   2]\n",
      " [  6   8   6  11  26   7  11  94   2   7]\n",
      " [ 24  16   1   6   1   8   5   5 141  14]\n",
      " [  7  41   2   5   3   9   4   4   6 115]]\n",
      "\n",
      " Classification Report\n",
      "               precision    recall  f1-score   support\n",
      "\n",
      "           0       0.47      0.45      0.46       199\n",
      "           1       0.48      0.57      0.52       187\n",
      "           2       0.32      0.20      0.24       189\n",
      "           3       0.37      0.27      0.31       231\n",
      "           4       0.36      0.42      0.39       202\n",
      "           5       0.38      0.38      0.38       189\n",
      "           6       0.47      0.57      0.52       208\n",
      "           7       0.51      0.53      0.52       178\n",
      "           8       0.62      0.64      0.63       221\n",
      "           9       0.53      0.59      0.56       196\n",
      "\n",
      "    accuracy                           0.46      2000\n",
      "   macro avg       0.45      0.46      0.45      2000\n",
      "weighted avg       0.45      0.46      0.45      2000\n",
      "\n"
     ]
    },
    {
     "data": {
      "image/png": "[encoded data removed]",
      "text/plain": [
       "<Figure size 432x288 with 1 Axes>"
      ]
     },
     "metadata": {
      "needs_background": "light"
     },
     "output_type": "display_data"
    }
   ],
   "source": [
    "clf = svm.SVC(probability = False, kernel = 'rbf')\n",
    "clf.fit(x_train,train_y.ravel())\n",
    "\n",
    "pred_y = clf.predict(x_test)\n",
    "pred_train = clf.predict(x_train)\n",
    "\n",
    "Report(train_y,test_y,pred_y,pred_train)\n",
    "\n",
    "clf = OneVsRestClassifier(svm.SVC(kernel = 'rbf'))\n",
    "clf.fit(x_train,y_train)\n",
    "y_score = clf.decision_function(x_test)\n",
    "plot_ROC(y_test,y_score,'Support Vector Machine')"
   ]
  },
  {
   "cell_type": "code",
   "execution_count": 9,
   "id": "collaborative-cheat",
   "metadata": {},
   "outputs": [
    {
     "name": "stdout",
     "output_type": "stream",
     "text": [
      "Training error 0.011375000000000024\n",
      "Testing error 0.5800000000000001\n",
      "\n",
      " Confusion Matrix\n",
      " [[ 86   6   5   6   9   0   5  15  43  24]\n",
      " [  6  86   2   6   3   5  11  10  18  40]\n",
      " [ 18   9  34  13  43  17  31  13   8   3]\n",
      " [ 14   7  10  38  35  41  42  20   8  16]\n",
      " [  8   2  10   6  99   8  33  18  11   7]\n",
      " [  4  14   7  18  20  73  16  20   7  10]\n",
      " [  3  11  15   9  33  16 112   6   0   3]\n",
      " [  7   9   9   7  33  16  14  64   2  17]\n",
      " [ 15  21   2   6   3  11   4   5 136  18]\n",
      " [  8  29   2   1   7   7   7   7  16 112]]\n",
      "\n",
      " Classification Report\n",
      "               precision    recall  f1-score   support\n",
      "\n",
      "           0       0.51      0.43      0.47       199\n",
      "           1       0.44      0.46      0.45       187\n",
      "           2       0.35      0.18      0.24       189\n",
      "           3       0.35      0.16      0.22       231\n",
      "           4       0.35      0.49      0.41       202\n",
      "           5       0.38      0.39      0.38       189\n",
      "           6       0.41      0.54      0.46       208\n",
      "           7       0.36      0.36      0.36       178\n",
      "           8       0.55      0.62      0.58       221\n",
      "           9       0.45      0.57      0.50       196\n",
      "\n",
      "    accuracy                           0.42      2000\n",
      "   macro avg       0.41      0.42      0.41      2000\n",
      "weighted avg       0.41      0.42      0.41      2000\n",
      "\n"
     ]
    },
    {
     "data": {
      "image/png": "[encoded data removed]",
      "text/plain": [
       "<Figure size 432x288 with 1 Axes>"
      ]
     },
     "metadata": {
      "needs_background": "light"
     },
     "output_type": "display_data"
    }
   ],
   "source": [
    "n=12\n",
    "clf = RandomForestClassifier(max_depth=n ,n_estimators=100, criterion = 'entropy' ,random_state=0)\n",
    "clf.fit(x_train,train_y.ravel())\n",
    "\n",
    "pred_y = clf.predict(x_test)\n",
    "pred_train = clf.predict(x_train)\n",
    "\n",
    "Report(train_y,test_y,pred_y,pred_train)\n",
    "\n",
    "clf2 = OneVsRestClassifier(RandomForestClassifier(max_depth=n, n_estimators=100, criterion = 'entropy', random_state = 0))\n",
    "clf2.fit(x_train,y_train)\n",
    "y_score = clf2.predict_proba(x_test)\n",
    "plot_ROC(y_test,y_score,'Random Forests')"
   ]
  },
  {
   "cell_type": "code",
   "execution_count": 10,
   "id": "elegant-contemporary",
   "metadata": {},
   "outputs": [
    {
     "name": "stdout",
     "output_type": "stream",
     "text": [
      "Training error 0.0\n",
      "Testing error 0.7655000000000001\n",
      "\n",
      " Confusion Matrix\n",
      " [[57 16 17 11 10 14  6 15 33 20]\n",
      " [20 43 12 18  5 14  8 24 13 30]\n",
      " [17 10 41 24 19 19 23 17  9 10]\n",
      " [13 12 23 32 32 30 34 25 17 13]\n",
      " [13  8 22 14 56 11 39 15 11 13]\n",
      " [13 15 15 28 17 35 21 24 12  9]\n",
      " [ 7 11 29 21 32 20 58 18  7  5]\n",
      " [12  8 21  9 28 18 17 37  9 19]\n",
      " [44 31  7 16 11  7  8 10 60 27]\n",
      " [18 29  8 16 10 16 13 16 20 50]]\n",
      "\n",
      " Classification Report\n",
      "               precision    recall  f1-score   support\n",
      "\n",
      "           0       0.27      0.29      0.28       199\n",
      "           1       0.23      0.23      0.23       187\n",
      "           2       0.21      0.22      0.21       189\n",
      "           3       0.17      0.14      0.15       231\n",
      "           4       0.25      0.28      0.27       202\n",
      "           5       0.19      0.19      0.19       189\n",
      "           6       0.26      0.28      0.27       208\n",
      "           7       0.18      0.21      0.20       178\n",
      "           8       0.31      0.27      0.29       221\n",
      "           9       0.26      0.26      0.26       196\n",
      "\n",
      "    accuracy                           0.23      2000\n",
      "   macro avg       0.23      0.23      0.23      2000\n",
      "weighted avg       0.23      0.23      0.23      2000\n",
      "\n"
     ]
    },
    {
     "data": {
      "image/png": "[encoded data removed]",
      "text/plain": [
       "<Figure size 432x288 with 1 Axes>"
      ]
     },
     "metadata": {
      "needs_background": "light"
     },
     "output_type": "display_data"
    }
   ],
   "source": [
    "clf = DecisionTreeClassifier(random_state=0)\n",
    "clf.fit(x_train,train_y) \n",
    "\n",
    "pred_y = clf.predict(x_test)\n",
    "pred_train = clf.predict(x_train)\n",
    "\n",
    "Report(train_y,test_y,pred_y,pred_train)\n",
    "\n",
    "clf3 = OneVsRestClassifier(DecisionTreeClassifier(random_state = 0))\n",
    "clf3.fit(x_train,y_train)\n",
    "y_score = clf3.predict_proba(x_test)\n",
    "plot_ROC(y_test,y_score,'Decision Tree')"
   ]
  },
  {
   "cell_type": "code",
   "execution_count": null,
   "id": "owned-estonia",
   "metadata": {},
   "outputs": [],
   "source": [
    "clf = LogisticRegression(random_state=0,max_iter=100000)\n",
    "clf.fit(x_train,train_y.ravel())\n",
    "\n",
    "pred_y = clf.predict(x_test)\n",
    "pred_train = clf.predict(x_train)\n",
    "\n",
    "Report(train_y,test_y,pred_y,pred_train)\n",
    "\n",
    "clf4 = OneVsRestClassifier(LogisticRegression(max_iter=100000,random_state=0))\n",
    "clf4.fit(x_train,y_train)\n",
    "y_score = clf4.decision_function(x_test)\n",
    "plot_ROC(y_test,y_score,'Logistic Regression')"
   ]
  },
  {
   "cell_type": "code",
   "execution_count": null,
   "id": "perfect-withdrawal",
   "metadata": {},
   "outputs": [],
   "source": [
    "#Support Vector Machine with rbf kernel ML model is best among the given models based on ROC curve analysis."
   ]
  },
  {
   "cell_type": "code",
   "execution_count": null,
   "id": "pointed-bridges",
   "metadata": {},
   "outputs": [],
   "source": [
    " "
   ]
  }
 ],
 "metadata": {
  "kernelspec": {
   "display_name": "Python 3",
   "language": "python",
   "name": "python3"
  },
  "language_info": {
   "codemirror_mode": {
    "name": "ipython",
    "version": 3
   },
   "file_extension": ".py",
   "mimetype": "text/x-python",
   "name": "python",
   "nbconvert_exporter": "python",
   "pygments_lexer": "ipython3",
   "version": "3.8.5"
  }
 },
 "nbformat": 4,
 "nbformat_minor": 5
}
